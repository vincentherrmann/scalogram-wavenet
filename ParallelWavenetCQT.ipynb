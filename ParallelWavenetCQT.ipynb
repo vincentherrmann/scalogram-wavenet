{
 "cells": [
  {
   "cell_type": "code",
   "execution_count": 2,
   "metadata": {},
   "outputs": [],
   "source": [
    "import math\n",
    "import numpy as np\n",
    "\n",
    "import librosa as lr\n",
    "from librosa import display\n",
    "\n",
    "import torch \n",
    "import torch.nn as nn\n",
    "import torch.nn.functional as F\n",
    "\n",
    "from matplotlib import pyplot as plt\n",
    "import IPython\n",
    "\n",
    "from parallel_wavenet import *\n",
    "from wavenet_dataset import *\n",
    "from constant_q_transform import *\n",
    "from parallel_wavenet_trainer import *"
   ]
  },
  {
   "cell_type": "code",
   "execution_count": null,
   "metadata": {},
   "outputs": [],
   "source": [
    "model = WaveNetModel()\n",
    "print(\"input_length:\", model.input_length)\n",
    "print(\"output length:\", model.output_length)"
   ]
  },
  {
   "cell_type": "code",
   "execution_count": null,
   "metadata": {},
   "outputs": [],
   "source": [
    "dataset = ParallelWavenetDataset('audio_clips', \n",
    "                                 item_length=model.input_length, \n",
    "                                 target_length=model.output_length, \n",
    "                                 test_stride=0)\n",
    "print(\"dataset length:\", len(dataset))"
   ]
  },
  {
   "cell_type": "code",
   "execution_count": null,
   "metadata": {},
   "outputs": [],
   "source": [
    "example, target = dataset[10]"
   ]
  },
  {
   "cell_type": "code",
   "execution_count": null,
   "metadata": {},
   "outputs": [],
   "source": [
    "IPython.display.Audio(example.squeeze(), rate=16000)"
   ]
  },
  {
   "cell_type": "code",
   "execution_count": null,
   "metadata": {},
   "outputs": [],
   "source": [
    "output = model(example)\n",
    "output.shape"
   ]
  },
  {
   "cell_type": "code",
   "execution_count": null,
   "metadata": {},
   "outputs": [],
   "source": [
    "target.shape"
   ]
  },
  {
   "cell_type": "code",
   "execution_count": null,
   "metadata": {},
   "outputs": [],
   "source": [
    "cqt_module = CQT(sr=16000, fmin=30, n_bins=250, bins_per_octave=32)"
   ]
  },
  {
   "cell_type": "code",
   "execution_count": null,
   "metadata": {},
   "outputs": [],
   "source": [
    "cqt = cqt_module(example)\n",
    "scalogram = abs(cqt).squeeze()**2\n",
    "\n",
    "fig = plt.figure(figsize=(8, 8))\n",
    "plt.imshow(np.log(scalogram.detach()), origin='lower', aspect=1.)\n",
    "plt.show()"
   ]
  },
  {
   "cell_type": "code",
   "execution_count": null,
   "metadata": {},
   "outputs": [],
   "source": [
    "scalogram.shape"
   ]
  },
  {
   "cell_type": "code",
   "execution_count": null,
   "metadata": {},
   "outputs": [],
   "source": [
    "conditioning_model_settings = conditioning_wavenet_default_settings\n",
    "conditioning_wavenet_default_settings['conditioning_period'] = 128\n",
    "conditioning_wavenet_default_settings['conditioning_channels'] = [250, 16]\n",
    "conditioning_model = WaveNetModelWithConditioning(conditioning_model_settings)"
   ]
  },
  {
   "cell_type": "code",
   "execution_count": null,
   "metadata": {},
   "outputs": [],
   "source": [
    "cqt = cqt_module(example)\n",
    "scalogram = abs(cqt).squeeze()**2\n",
    "model_output = conditioning_model((example, scalogram.unsqueeze(0)))"
   ]
  },
  {
   "cell_type": "code",
   "execution_count": null,
   "metadata": {},
   "outputs": [],
   "source": [
    "model_output.shape"
   ]
  },
  {
   "cell_type": "code",
   "execution_count": null,
   "metadata": {},
   "outputs": [],
   "source": [
    "output_signal = torch.cat([example[0, 0, :-conditioning_model.output_length], model_output[:, 0]], dim=0)"
   ]
  },
  {
   "cell_type": "code",
   "execution_count": null,
   "metadata": {},
   "outputs": [],
   "source": [
    "IPython.display.Audio(output_signal.detach(), rate=16000)"
   ]
  },
  {
   "cell_type": "code",
   "execution_count": null,
   "metadata": {},
   "outputs": [],
   "source": [
    "output_cqt = cqt_module(output_signal.view(1, 1, -1))\n",
    "output_scalogram = abs(output_cqt).squeeze()**2\n",
    "\n",
    "fig = plt.figure(figsize=(8, 8))\n",
    "plt.imshow(np.log(output_scalogram.detach()), origin='lower', aspect=1.)\n",
    "plt.show()"
   ]
  },
  {
   "cell_type": "code",
   "execution_count": null,
   "metadata": {
    "scrolled": false
   },
   "outputs": [],
   "source": [
    "wavenet_settings = conditioning_wavenet_default_settings\n",
    "wavenet_settings['conditioning_channels'] = [256, 16]\n",
    "wavenet_settings['skip_channels'] = 32\n",
    "test_model = WaveNetModelWithConditioning(wavenet_settings)\n",
    "dataset = ParallelWavenetDataset('audio_clips',\n",
    "                                 item_length=test_model.input_length,\n",
    "                                 target_length=test_model.output_length,\n",
    "                                 test_stride=0)\n",
    "trainer = ParallelWavenetTrainer(test_model, dataset, CQT())\n",
    "trainer.train(4, 1)"
   ]
  },
  {
   "cell_type": "code",
   "execution_count": 3,
   "metadata": {},
   "outputs": [
    {
     "name": "stdout",
     "output_type": "stream",
     "text": [
      "processed /Volumes/Elements/Projekte/scalogram-wavenet/house_dataset/BEC010300111_Kate Ryan_Hurry Up.m4a\n",
      "processed /Volumes/Elements/Projekte/scalogram-wavenet/house_dataset/CAN110601056_BT_Swing Away.m4a\n",
      "processed /Volumes/Elements/Projekte/scalogram-wavenet/house_dataset/DEBY30730703_Cosmic Baby_La Ciudad De Los Dioses.m4a\n",
      "processed /Volumes/Elements/Projekte/scalogram-wavenet/house_dataset/DEE190500058_WestBam_Like That.m4a\n",
      "processed /Volumes/Elements/Projekte/scalogram-wavenet/house_dataset/DEE190500060_WestBam_Total Extrem.m4a\n",
      "processed /Volumes/Elements/Projekte/scalogram-wavenet/house_dataset/DEN060700147_ATB_Alcarda.m4a\n",
      "processed /Volumes/Elements/Projekte/scalogram-wavenet/house_dataset/DEW760400003_Paul van Dyk_Crush - PvD Remix.m4a\n",
      "processed /Volumes/Elements/Projekte/scalogram-wavenet/house_dataset/DEW760700136_Paul van Dyk_We Are Alive - Christopher Just Remix.m4a\n",
      "processed /Volumes/Elements/Projekte/scalogram-wavenet/house_dataset/DEY470919860_Quazar_Travel Light.m4a\n",
      "processed /Volumes/Elements/Projekte/scalogram-wavenet/house_dataset/FIBAR9500032_Aikakone_Rakkauslaulu.m4a\n",
      "processed /Volumes/Elements/Projekte/scalogram-wavenet/house_dataset/FIBAR9800082_Aikakone_Aikapyörä.m4a\n",
      "processed /Volumes/Elements/Projekte/scalogram-wavenet/house_dataset/FIBAR9800083_Aikakone_Tulisitko.m4a\n",
      "processed /Volumes/Elements/Projekte/scalogram-wavenet/house_dataset/FIBAR9800097_Aikakone_El Sol.m4a\n",
      "processed /Volumes/Elements/Projekte/scalogram-wavenet/house_dataset/GB-GWM-07-20009_Sunscreem_Pressure - Release Me Extended Mix.m4a\n",
      "processed /Volumes/Elements/Projekte/scalogram-wavenet/house_dataset/GBBLG9200100_Sunscreem_Britannia.m4a\n",
      "processed /Volumes/Elements/Projekte/scalogram-wavenet/house_dataset/GBBMP0900537_Shpongle_Walking Backwards Thought The Cosmic Mirror.m4a\n",
      "processed /Volumes/Elements/Projekte/scalogram-wavenet/house_dataset/GBBTF0800324_The Shamen_Heal (The Separation) [HELP Breakbeat].m4a\n",
      "processed /Volumes/Elements/Projekte/scalogram-wavenet/house_dataset/GBBTF9200007_The Shamen_LSI - Shamen Alternative Vocal 12.m4a\n",
      "processed /Volumes/Elements/Projekte/scalogram-wavenet/house_dataset/GBBTF9500084_The Shamen_Basement Boys - Destination Chant.m4a\n",
      "processed /Volumes/Elements/Projekte/scalogram-wavenet/house_dataset/GBDLM0810071_Cosmic Gate_Flatline (feat Kyler England).m4a\n",
      "processed /Volumes/Elements/Projekte/scalogram-wavenet/house_dataset/GBHLW0710136_Psychic TV_Hookah Chalice.m4a\n",
      "processed /Volumes/Elements/Projekte/scalogram-wavenet/house_dataset/IT00B0600075_Lento Violento Man_Passo Felino.m4a\n",
      "processed /Volumes/Elements/Projekte/scalogram-wavenet/house_dataset/NLB770000098_System F_Exhale (Armin Van Buuren Edit) (feat Armin Van Buuren).m4a\n",
      "processed /Volumes/Elements/Projekte/scalogram-wavenet/house_dataset/NLE710720341_BT_Mercury  Solace - BT 12 Mastermix.m4a\n",
      "processed /Volumes/Elements/Projekte/scalogram-wavenet/house_dataset/NLF710801760_The Space Brothers_Heaven Will Come - Original Mix.m4a\n",
      "processed /Volumes/Elements/Projekte/scalogram-wavenet/house_dataset/NLQ881000566_System F_Out Of The Blue 2010 (Showtek Remix).m4a\n",
      "processed /Volumes/Elements/Projekte/scalogram-wavenet/house_dataset/PLI360973760_Kate Ryan_Magical Love.m4a\n",
      "processed /Volumes/Elements/Projekte/scalogram-wavenet/house_dataset/USA2P0502890_Shpongle_The Stamen Of The Shamen.m4a\n",
      "processed /Volumes/Elements/Projekte/scalogram-wavenet/house_dataset/USA2P0767312_SynSUN_Ride the Ligthning.m4a\n",
      "processed /Volumes/Elements/Projekte/scalogram-wavenet/house_dataset/USA2P0872882_SynSUN_Vampiria Night.m4a\n",
      "processed /Volumes/Elements/Projekte/scalogram-wavenet/house_dataset/USA2P0872884_SynSUN_MDK.m4a\n",
      "processed /Volumes/Elements/Projekte/scalogram-wavenet/house_dataset/USA370516400_Psychic TV_Tune In (Greedy Beat Syndicate Remix).m4a\n",
      "processed /Volumes/Elements/Projekte/scalogram-wavenet/house_dataset/USA370636855_Sunscreem_Chronologie IV.m4a\n",
      "processed /Volumes/Elements/Projekte/scalogram-wavenet/house_dataset/USA370636858_Sunscreem_Damn Disco.m4a\n",
      "processed /Volumes/Elements/Projekte/scalogram-wavenet/house_dataset/USA560577065_Psychic TV_Blue Pyramid (Virginia  Mista Luv Mix).m4a\n",
      "processed /Volumes/Elements/Projekte/scalogram-wavenet/house_dataset/USA560577071_Psychic TV_Still Tempted.m4a\n",
      "processed /Volumes/Elements/Projekte/scalogram-wavenet/house_dataset/USUS10800100_Kaskade_Your Love Is Black.m4a\n"
     ]
    }
   ],
   "source": [
    "dataset = ParallelWavenetDataset('/Volumes/Elements/Projekte/scalogram-wavenet/house_dataset',\n",
    "                                 item_length=100,\n",
    "                                 target_length=100,\n",
    "                                 test_stride=0)"
   ]
  },
  {
   "cell_type": "code",
   "execution_count": null,
   "metadata": {},
   "outputs": [],
   "source": [
    "import subprocess\n",
    "rc = subprocess.call([\"tst\", \"asd\"])"
   ]
  },
  {
   "cell_type": "code",
   "execution_count": null,
   "metadata": {},
   "outputs": [],
   "source": [
    "rc"
   ]
  },
  {
   "cell_type": "code",
   "execution_count": null,
   "metadata": {},
   "outputs": [],
   "source": []
  }
 ],
 "metadata": {
  "anaconda-cloud": {},
  "kernelspec": {
   "display_name": "Python [default]",
   "language": "python",
   "name": "python3"
  },
  "latex_envs": {
   "LaTeX_envs_menu_present": true,
   "autoclose": false,
   "autocomplete": true,
   "bibliofile": "biblio.bib",
   "cite_by": "apalike",
   "current_citInitial": 1,
   "eqLabelWithNumbers": true,
   "eqNumInitial": 1,
   "hotkeys": {
    "equation": "Ctrl-E",
    "itemize": "Ctrl-I"
   },
   "labels_anchors": false,
   "latex_user_defs": false,
   "report_style_numbering": false,
   "user_envs_cfg": false
  },
  "toc": {
   "base_numbering": 1,
   "nav_menu": {},
   "number_sections": false,
   "sideBar": true,
   "skip_h1_title": false,
   "title_cell": "Table of Contents",
   "title_sidebar": "Contents",
   "toc_cell": false,
   "toc_position": {},
   "toc_section_display": true,
   "toc_window_display": false
  },
  "varInspector": {
   "cols": {
    "lenName": 16,
    "lenType": 16,
    "lenVar": 40
   },
   "kernels_config": {
    "python": {
     "delete_cmd_postfix": "",
     "delete_cmd_prefix": "del ",
     "library": "var_list.py",
     "varRefreshCmd": "print(var_dic_list())"
    },
    "r": {
     "delete_cmd_postfix": ") ",
     "delete_cmd_prefix": "rm(",
     "library": "var_list.r",
     "varRefreshCmd": "cat(var_dic_list()) "
    }
   },
   "types_to_exclude": [
    "module",
    "function",
    "builtin_function_or_method",
    "instance",
    "_Feature"
   ],
   "window_display": false
  }
 },
 "nbformat": 4,
 "nbformat_minor": 1
}
